{
 "cells": [
  {
   "cell_type": "code",
   "execution_count": 2,
   "id": "6c1496ab",
   "metadata": {},
   "outputs": [],
   "source": [
    "import pandas as pd\n",
    "\n",
    "df = pd.read_csv('/Users/jessiereddjr./Desktop/netflix-report/CONTENT_INTERACTION/ViewingActivity.csv')"
   ]
  },
  {
   "cell_type": "code",
   "execution_count": 3,
   "id": "267edf44",
   "metadata": {},
   "outputs": [
    {
     "data": {
      "text/plain": [
       "(5338, 10)"
      ]
     },
     "execution_count": 3,
     "metadata": {},
     "output_type": "execute_result"
    }
   ],
   "source": [
    "df.shape"
   ]
  },
  {
   "cell_type": "code",
   "execution_count": 4,
   "id": "a23c88cd",
   "metadata": {},
   "outputs": [
    {
     "data": {
      "text/html": [
       "<div>\n",
       "<style scoped>\n",
       "    .dataframe tbody tr th:only-of-type {\n",
       "        vertical-align: middle;\n",
       "    }\n",
       "\n",
       "    .dataframe tbody tr th {\n",
       "        vertical-align: top;\n",
       "    }\n",
       "\n",
       "    .dataframe thead th {\n",
       "        text-align: right;\n",
       "    }\n",
       "</style>\n",
       "<table border=\"1\" class=\"dataframe\">\n",
       "  <thead>\n",
       "    <tr style=\"text-align: right;\">\n",
       "      <th></th>\n",
       "      <th>Profile Name</th>\n",
       "      <th>Start Time</th>\n",
       "      <th>Duration</th>\n",
       "      <th>Attributes</th>\n",
       "      <th>Title</th>\n",
       "      <th>Supplemental Video Type</th>\n",
       "      <th>Device Type</th>\n",
       "      <th>Bookmark</th>\n",
       "      <th>Latest Bookmark</th>\n",
       "      <th>Country</th>\n",
       "    </tr>\n",
       "  </thead>\n",
       "  <tbody>\n",
       "    <tr>\n",
       "      <th>0</th>\n",
       "      <td>Lil Jessie</td>\n",
       "      <td>2023-06-23 03:39:55</td>\n",
       "      <td>00:00:47</td>\n",
       "      <td>Autoplayed: user action: None;</td>\n",
       "      <td>Black Mirror: Season 5: Smithereens (Episode 2)</td>\n",
       "      <td>NaN</td>\n",
       "      <td>FireTV 4K Stick 2018</td>\n",
       "      <td>00:00:56</td>\n",
       "      <td>00:00:56</td>\n",
       "      <td>US (United States)</td>\n",
       "    </tr>\n",
       "  </tbody>\n",
       "</table>\n",
       "</div>"
      ],
      "text/plain": [
       "  Profile Name           Start Time  Duration  \\\n",
       "0   Lil Jessie  2023-06-23 03:39:55  00:00:47   \n",
       "\n",
       "                        Attributes  \\\n",
       "0  Autoplayed: user action: None;    \n",
       "\n",
       "                                             Title Supplemental Video Type  \\\n",
       "0  Black Mirror: Season 5: Smithereens (Episode 2)                     NaN   \n",
       "\n",
       "            Device Type  Bookmark Latest Bookmark             Country  \n",
       "0  FireTV 4K Stick 2018  00:00:56        00:00:56  US (United States)  "
      ]
     },
     "execution_count": 4,
     "metadata": {},
     "output_type": "execute_result"
    }
   ],
   "source": [
    "df.head(1)"
   ]
  },
  {
   "cell_type": "code",
   "execution_count": 5,
   "id": "0752935a",
   "metadata": {},
   "outputs": [],
   "source": [
    "df = df.drop(['Profile Name', 'Attributes', 'Supplemental Video Type', 'Device Type', 'Bookmark', 'Country'], axis=1)"
   ]
  },
  {
   "cell_type": "code",
   "execution_count": 6,
   "id": "e12ef611",
   "metadata": {},
   "outputs": [
    {
     "data": {
      "text/plain": [
       "Start Time         object\n",
       "Duration           object\n",
       "Title              object\n",
       "Latest Bookmark    object\n",
       "dtype: object"
      ]
     },
     "execution_count": 6,
     "metadata": {},
     "output_type": "execute_result"
    }
   ],
   "source": [
    "df.dtypes"
   ]
  },
  {
   "cell_type": "code",
   "execution_count": 7,
   "id": "980bca82",
   "metadata": {},
   "outputs": [
    {
     "data": {
      "text/plain": [
       "Start Time         datetime64[ns, UTC]\n",
       "Duration                        object\n",
       "Title                           object\n",
       "Latest Bookmark                 object\n",
       "dtype: object"
      ]
     },
     "execution_count": 7,
     "metadata": {},
     "output_type": "execute_result"
    }
   ],
   "source": [
    "df['Start Time'] = pd.to_datetime(df['Start Time'], utc=True)\n",
    "df.dtypes"
   ]
  },
  {
   "cell_type": "code",
   "execution_count": 8,
   "id": "2cad1f25",
   "metadata": {},
   "outputs": [
    {
     "data": {
      "text/html": [
       "<div>\n",
       "<style scoped>\n",
       "    .dataframe tbody tr th:only-of-type {\n",
       "        vertical-align: middle;\n",
       "    }\n",
       "\n",
       "    .dataframe tbody tr th {\n",
       "        vertical-align: top;\n",
       "    }\n",
       "\n",
       "    .dataframe thead th {\n",
       "        text-align: right;\n",
       "    }\n",
       "</style>\n",
       "<table border=\"1\" class=\"dataframe\">\n",
       "  <thead>\n",
       "    <tr style=\"text-align: right;\">\n",
       "      <th></th>\n",
       "      <th>Start Time</th>\n",
       "      <th>Duration</th>\n",
       "      <th>Title</th>\n",
       "      <th>Latest Bookmark</th>\n",
       "    </tr>\n",
       "  </thead>\n",
       "  <tbody>\n",
       "    <tr>\n",
       "      <th>0</th>\n",
       "      <td>2023-06-22 22:39:55-05:00</td>\n",
       "      <td>00:00:47</td>\n",
       "      <td>Black Mirror: Season 5: Smithereens (Episode 2)</td>\n",
       "      <td>00:00:56</td>\n",
       "    </tr>\n",
       "  </tbody>\n",
       "</table>\n",
       "</div>"
      ],
      "text/plain": [
       "                 Start Time  Duration  \\\n",
       "0 2023-06-22 22:39:55-05:00  00:00:47   \n",
       "\n",
       "                                             Title Latest Bookmark  \n",
       "0  Black Mirror: Season 5: Smithereens (Episode 2)        00:00:56  "
      ]
     },
     "execution_count": 8,
     "metadata": {},
     "output_type": "execute_result"
    }
   ],
   "source": [
    "# change the Start Time column into the dataframe's index\n",
    "df = df.set_index('Start Time')\n",
    "\n",
    "# convert from UTC timezone to eastern time\n",
    "df.index = df.index.tz_convert('US/Central')\n",
    "\n",
    "# reset the index so that Start Time becomes a column again\n",
    "df = df.reset_index()\n",
    "\n",
    "#double-check that it worked\n",
    "df.head(1)"
   ]
  },
  {
   "cell_type": "code",
   "execution_count": 9,
   "id": "400c6ffd",
   "metadata": {},
   "outputs": [
    {
     "data": {
      "text/plain": [
       "Start Time         datetime64[ns, US/Central]\n",
       "Duration                      timedelta64[ns]\n",
       "Title                                  object\n",
       "Latest Bookmark                        object\n",
       "dtype: object"
      ]
     },
     "execution_count": 9,
     "metadata": {},
     "output_type": "execute_result"
    }
   ],
   "source": [
    "df ['Duration'] = pd.to_timedelta(df['Duration'])\n",
    "df.dtypes"
   ]
  },
  {
   "cell_type": "code",
   "execution_count": 10,
   "id": "638190ef",
   "metadata": {},
   "outputs": [],
   "source": [
    "# create a new dataframe called All American that takes from df\n",
    "# only the rows in which the Title column contains 'All American'\n",
    "all_american = df[df['Title'].str.contains('All American', regex=False)]"
   ]
  },
  {
   "cell_type": "code",
   "execution_count": 11,
   "id": "906a4c7f",
   "metadata": {},
   "outputs": [
    {
     "data": {
      "text/plain": [
       "(113, 4)"
      ]
     },
     "execution_count": 11,
     "metadata": {},
     "output_type": "execute_result"
    }
   ],
   "source": [
    "all_american.shape"
   ]
  },
  {
   "cell_type": "code",
   "execution_count": 15,
   "id": "0a15b24e",
   "metadata": {},
   "outputs": [
    {
     "data": {
      "text/plain": [
       "(93, 4)"
      ]
     },
     "execution_count": 15,
     "metadata": {},
     "output_type": "execute_result"
    }
   ],
   "source": [
    "all_american = all_american[(all_american['Duration'] > '0 days 00:01:00')]\n",
    "all_american.shape"
   ]
  },
  {
   "cell_type": "code",
   "execution_count": 16,
   "id": "a850d47e",
   "metadata": {},
   "outputs": [
    {
     "data": {
      "text/plain": [
       "Timedelta('1 days 21:03:32')"
      ]
     },
     "execution_count": 16,
     "metadata": {},
     "output_type": "execute_result"
    }
   ],
   "source": [
    "all_american['Duration'].sum()"
   ]
  },
  {
   "cell_type": "code",
   "execution_count": 18,
   "id": "60d2c240",
   "metadata": {},
   "outputs": [
    {
     "data": {
      "text/html": [
       "<div>\n",
       "<style scoped>\n",
       "    .dataframe tbody tr th:only-of-type {\n",
       "        vertical-align: middle;\n",
       "    }\n",
       "\n",
       "    .dataframe tbody tr th {\n",
       "        vertical-align: top;\n",
       "    }\n",
       "\n",
       "    .dataframe thead th {\n",
       "        text-align: right;\n",
       "    }\n",
       "</style>\n",
       "<table border=\"1\" class=\"dataframe\">\n",
       "  <thead>\n",
       "    <tr style=\"text-align: right;\">\n",
       "      <th></th>\n",
       "      <th>Start Time</th>\n",
       "      <th>Duration</th>\n",
       "      <th>Title</th>\n",
       "      <th>Latest Bookmark</th>\n",
       "      <th>weekday</th>\n",
       "      <th>hour</th>\n",
       "    </tr>\n",
       "  </thead>\n",
       "  <tbody>\n",
       "    <tr>\n",
       "      <th>3</th>\n",
       "      <td>2023-06-22 13:19:44-05:00</td>\n",
       "      <td>0 days 00:03:26</td>\n",
       "      <td>All American: Season 1: Back in The Day (Episo...</td>\n",
       "      <td>Not latest view</td>\n",
       "      <td>3</td>\n",
       "      <td>13</td>\n",
       "    </tr>\n",
       "  </tbody>\n",
       "</table>\n",
       "</div>"
      ],
      "text/plain": [
       "                 Start Time        Duration  \\\n",
       "3 2023-06-22 13:19:44-05:00 0 days 00:03:26   \n",
       "\n",
       "                                               Title  Latest Bookmark  \\\n",
       "3  All American: Season 1: Back in The Day (Episo...  Not latest view   \n",
       "\n",
       "   weekday  hour  \n",
       "3        3    13  "
      ]
     },
     "execution_count": 18,
     "metadata": {},
     "output_type": "execute_result"
    }
   ],
   "source": [
    "all_american['weekday'] = all_american['Start Time'].dt.weekday\n",
    "all_american['hour'] = all_american['Start Time'].dt.hour\n",
    "\n",
    "# check to make sure colums were added correctly\n",
    "all_american.head(1)"
   ]
  },
  {
   "cell_type": "code",
   "execution_count": 19,
   "id": "419f7445",
   "metadata": {},
   "outputs": [],
   "source": [
    "%matplotlib inline\n",
    "import matplotlib"
   ]
  },
  {
   "cell_type": "code",
   "execution_count": 22,
   "id": "913f4fd9",
   "metadata": {},
   "outputs": [
    {
     "data": {
      "text/plain": [
       "<AxesSubplot:title={'center':'All American Episodes Watched by Day'}>"
      ]
     },
     "execution_count": 22,
     "metadata": {},
     "output_type": "execute_result"
    },
    {
     "data": {
      "image/png": "[encoded data removed]",
      "text/plain": [
       "<Figure size 1440x720 with 1 Axes>"
      ]
     },
     "metadata": {
      "needs_background": "light"
     },
     "output_type": "display_data"
    }
   ],
   "source": [
    "# set our categorical and define the order so the days are plotted Monday-Sunday\n",
    "all_american['weekday'] = pd.Categorical(all_american['weekday'], categories=\n",
    "    [0,1,2,3,4,5,6],\n",
    "    ordered=True)\n",
    "\n",
    "# create all_american_by_day and count the rows for each weekday, assigning the result to that variable\n",
    "all_american_by_day = all_american['weekday'].value_counts()\n",
    "\n",
    "# sort the index using our categorical, so that Monday (0) is first, Tuesday (1) is second, etc.\n",
    "all_american_by_day = all_american_by_day.sort_index()\n",
    "\n",
    "# optional: update the font size to make it a bit larger and easier to read\n",
    "matplotlib.rcParams.update({'font.size': 22})\n",
    "\n",
    "# plot all_american_by_day as a bar chart with the listed size and title\n",
    "all_american_by_day.plot(kind='bar', figsize=(20,10), title='All American Episodes Watched by Day')"
   ]
  },
  {
   "cell_type": "code",
   "execution_count": 24,
   "id": "14d9e7d1",
   "metadata": {},
   "outputs": [
    {
     "data": {
      "text/plain": [
       "<AxesSubplot:title={'center':'All American Episodes Watched by Hour'}>"
      ]
     },
     "execution_count": 24,
     "metadata": {},
     "output_type": "execute_result"
    },
    {
     "data": {
      "image/png": "[encoded data removed]",
      "text/plain": [
       "<Figure size 1440x720 with 1 Axes>"
      ]
     },
     "metadata": {
      "needs_background": "light"
     },
     "output_type": "display_data"
    }
   ],
   "source": [
    "# set our categorical and define the order so the hours are plotted 0-23\n",
    "all_american['hour'] = pd.Categorical(all_american['hour'], categories=\n",
    "    [0,1,2,3,4,5,6,7,8,9,10,11,12,13,14,15,16,17,18,19,20,21,22,23],\n",
    "    ordered=True)\n",
    "\n",
    "#create all_american_hour and count the rows for each hour, assigning the result to that variable\n",
    "all_american_by_hour = all_american['hour'].value_counts()\n",
    "\n",
    "# sort the index using our categorical, so that midnight (0) is first, 1 a.m. (1) is second, etc.\n",
    "all_american_by_hour = all_american_by_hour.sort_index()\n",
    "\n",
    "# plot all_american_by_hour as a bar chart with the listed size and title\n",
    "all_american_by_hour.plot(kind='bar', figsize=(20,10), title='All American Episodes Watched by Hour')"
   ]
  },
  {
   "cell_type": "code",
   "execution_count": null,
   "id": "e3b85565",
   "metadata": {},
   "outputs": [],
   "source": []
  }
 ],
 "metadata": {
  "kernelspec": {
   "display_name": "Python 3 (ipykernel)",
   "language": "python",
   "name": "python3"
  },
  "language_info": {
   "codemirror_mode": {
    "name": "ipython",
    "version": 3
   },
   "file_extension": ".py",
   "mimetype": "text/x-python",
   "name": "python",
   "nbconvert_exporter": "python",
   "pygments_lexer": "ipython3",
   "version": "3.9.12"
  }
 },
 "nbformat": 4,
 "nbformat_minor": 5
}
